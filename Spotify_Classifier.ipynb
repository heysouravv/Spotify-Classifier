{
  "nbformat": 4,
  "nbformat_minor": 0,
  "metadata": {
    "colab": {
      "name": "Spotify Classifier",
      "provenance": [],
      "authorship_tag": "ABX9TyOpUjsW0xei0SxdEmWDSfZc"
    },
    "kernelspec": {
      "name": "python3",
      "display_name": "Python 3"
    },
    "language_info": {
      "name": "python"
    }
  },
  "cells": [
    {
      "cell_type": "markdown",
      "source": [
        "Defining Requirements"
      ],
      "metadata": {
        "id": "OpLA9KwD4GZN"
      }
    },
    {
      "cell_type": "code",
      "execution_count": 2,
      "metadata": {
        "id": "TEy4HKdtnZCR"
      },
      "outputs": [],
      "source": [
        "import numpy as ap\n",
        "import pandas as pd\n",
        "from sklearn import tree\n",
        "from sklearn.tree import DecisionTreeClassifier\n",
        "from sklearn.model_selection import train_test_split\n",
        "from matplotlib import pyplot as plt\n",
        "import seaborn as sns"
      ]
    },
    {
      "cell_type": "markdown",
      "source": [
        "Loading Data"
      ],
      "metadata": {
        "id": "hAR0gVKA3pIb"
      }
    },
    {
      "cell_type": "code",
      "source": [
        "data = pd.read_csv(\"/content/data.csv\")"
      ],
      "metadata": {
        "id": "gzxjzFj4oiG3"
      },
      "execution_count": 3,
      "outputs": []
    },
    {
      "cell_type": "markdown",
      "source": [
        "Geting Data Features and general Inforamation 📄"
      ],
      "metadata": {
        "id": "cu8oClqB3rjt"
      }
    },
    {
      "cell_type": "code",
      "source": [
        "data.info()"
      ],
      "metadata": {
        "id": "yi36o2N-rDxV"
      },
      "execution_count": null,
      "outputs": []
    },
    {
      "cell_type": "markdown",
      "source": [
        "Data Classifiaction and Segregation "
      ],
      "metadata": {
        "id": "q9HkSn8531t9"
      }
    },
    {
      "cell_type": "code",
      "source": [
        "train , test = train_test_split(data , test_size=0.45)"
      ],
      "metadata": {
        "id": "LZ4xDX-DotWu"
      },
      "execution_count": 17,
      "outputs": []
    },
    {
      "cell_type": "code",
      "source": [
        "print(\"Training Size : {} , Test Size : {}\".format(len(train),len(test)))"
      ],
      "metadata": {
        "colab": {
          "base_uri": "https://localhost:8080/"
        },
        "id": "iKCMf0hfpYrc",
        "outputId": "e33d2e33-e245-44cc-e2bc-00ea1121c385"
      },
      "execution_count": 18,
      "outputs": [
        {
          "output_type": "stream",
          "name": "stdout",
          "text": [
            "Training Size : 1109 , Test Size : 908\n"
          ]
        }
      ]
    },
    {
      "cell_type": "code",
      "source": [
        "c = DecisionTreeClassifier(min_samples_split=100)"
      ],
      "metadata": {
        "id": "YW-pa-fpprM3"
      },
      "execution_count": 20,
      "outputs": []
    },
    {
      "cell_type": "markdown",
      "source": [
        "Defining Labels"
      ],
      "metadata": {
        "id": "hkCaaBLp4Av7"
      }
    },
    {
      "cell_type": "code",
      "source": [
        "features = [\"acousticness\",\"danceability\",\"duration_ms\",\"energy\",\"instrumentalness\",\"key\",\"liveness\",\"mode\",\"speechiness\",\"tempo\",\"time_signature\",\"valence\"]"
      ],
      "metadata": {
        "id": "UIru34uMqBYF"
      },
      "execution_count": 27,
      "outputs": []
    },
    {
      "cell_type": "code",
      "source": [
        "X_train = train[features]\n",
        "y_train = train[\"target\"]\n",
        "\n",
        "X_test = test[features]\n",
        "y_test = test[\"target\"]"
      ],
      "metadata": {
        "id": "I1vnxXlWscOI"
      },
      "execution_count": 28,
      "outputs": []
    },
    {
      "cell_type": "code",
      "source": [
        "model = c.fit(X_train , y_train)"
      ],
      "metadata": {
        "id": "MlICZc1drqL0"
      },
      "execution_count": 37,
      "outputs": []
    },
    {
      "cell_type": "code",
      "source": [
        "y_pred = model.predict(X_test)"
      ],
      "metadata": {
        "id": "oXPyIkNytTrP"
      },
      "execution_count": 38,
      "outputs": []
    },
    {
      "cell_type": "code",
      "source": [
        "from sklearn.metrics import accuracy_score\n",
        "score = accuracy_score(y_test,y_pred)*100\n",
        "print(\"Accuracy is {}\".format(score))"
      ],
      "metadata": {
        "id": "ic-Rmm2Gtv1F"
      },
      "execution_count": 39,
      "outputs": []
    },
    {
      "cell_type": "code",
      "source": [
        "print(\"Accuracy is {}\".format(score))"
      ],
      "metadata": {
        "colab": {
          "base_uri": "https://localhost:8080/"
        },
        "id": "o8mT4CBrubCK",
        "outputId": "2c475809-f999-485a-ed99-a9cd4825f883"
      },
      "execution_count": 40,
      "outputs": [
        {
          "output_type": "stream",
          "name": "stdout",
          "text": [
            "Accuracy is 73.45814977973568\n"
          ]
        }
      ]
    },
    {
      "cell_type": "markdown",
      "source": [
        "### Saving Model ☀️"
      ],
      "metadata": {
        "id": "0Rm40GzexSYO"
      }
    },
    {
      "cell_type": "code",
      "source": [
        "import joblib"
      ],
      "metadata": {
        "id": "bg9TxMLFuhbA"
      },
      "execution_count": 41,
      "outputs": []
    },
    {
      "cell_type": "code",
      "source": [
        "joblib.dump(model,\"spotifyclassifier.pkl\")"
      ],
      "metadata": {
        "colab": {
          "base_uri": "https://localhost:8080/"
        },
        "id": "mIsLX0uSvQ5b",
        "outputId": "0687e78a-3f9c-469a-aef5-a0f67d8f8ce6"
      },
      "execution_count": 42,
      "outputs": [
        {
          "output_type": "execute_result",
          "data": {
            "text/plain": [
              "['spotifyclassifier.pkl']"
            ]
          },
          "metadata": {},
          "execution_count": 42
        }
      ]
    },
    {
      "cell_type": "code",
      "source": [
        "classifier = joblib.load(\"spotifyclassifier.pkl\")"
      ],
      "metadata": {
        "id": "7Jw24aHjw3aJ"
      },
      "execution_count": 43,
      "outputs": []
    },
    {
      "cell_type": "code",
      "source": [
        "classifier.predict(X_test)"
      ],
      "metadata": {
        "id": "RsL_9pzvxESR"
      },
      "execution_count": null,
      "outputs": []
    },
    {
      "cell_type": "code",
      "source": [
        "from sklearn.metrics import accuracy_score\n",
        "score = accuracy_score(y_test,y_pred)*100\n",
        "print(\"Accuracy is {}\".format(score))"
      ],
      "metadata": {
        "colab": {
          "base_uri": "https://localhost:8080/"
        },
        "id": "gTTAax2wxKJ5",
        "outputId": "baae9d4e-da12-4b9d-bd78-ec52e9c655b4"
      },
      "execution_count": 45,
      "outputs": [
        {
          "output_type": "stream",
          "name": "stdout",
          "text": [
            "Accuracy is 73.45814977973568\n"
          ]
        }
      ]
    },
    {
      "cell_type": "code",
      "source": [
        ""
      ],
      "metadata": {
        "id": "mNFoSnj0xOdG"
      },
      "execution_count": null,
      "outputs": []
    }
  ]
}